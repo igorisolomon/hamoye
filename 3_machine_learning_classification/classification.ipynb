{
 "cells": [
  {
   "cell_type": "code",
   "execution_count": 1,
   "metadata": {},
   "outputs": [],
   "source": [
    "import numpy as np\n",
    "import pandas as pd\n",
    "import seaborn as sns\n",
    "import matplotlib.pyplot as plt\n",
    "\n",
    "\n",
    "from sklearn.preprocessing import MinMaxScaler\n",
    "from sklearn.ensemble import RandomForestClassifier\n",
    "from sklearn.metrics import recall_score, accuracy_score, precision_score, f1_score, confusion_matrix, plot_confusion_matrix\n",
    "from sklearn.ensemble import ExtraTreesClassifier\n",
    "from xgboost import XGBClassifier\n",
    "from lightgbm import LGBMClassifier\n",
    "from sklearn.model_selection import RandomizedSearchCV"
   ]
  },
  {
   "cell_type": "code",
   "execution_count": 2,
   "metadata": {},
   "outputs": [],
   "source": [
    "df = pd.read_csv('Data_for_UCI_named.csv')"
   ]
  },
  {
   "cell_type": "code",
   "execution_count": 3,
   "metadata": {},
   "outputs": [
    {
     "data": {
      "text/html": [
       "<div>\n",
       "<style scoped>\n",
       "    .dataframe tbody tr th:only-of-type {\n",
       "        vertical-align: middle;\n",
       "    }\n",
       "\n",
       "    .dataframe tbody tr th {\n",
       "        vertical-align: top;\n",
       "    }\n",
       "\n",
       "    .dataframe thead th {\n",
       "        text-align: right;\n",
       "    }\n",
       "</style>\n",
       "<table border=\"1\" class=\"dataframe\">\n",
       "  <thead>\n",
       "    <tr style=\"text-align: right;\">\n",
       "      <th></th>\n",
       "      <th>tau1</th>\n",
       "      <th>tau2</th>\n",
       "      <th>tau3</th>\n",
       "      <th>tau4</th>\n",
       "      <th>p1</th>\n",
       "      <th>p2</th>\n",
       "      <th>p3</th>\n",
       "      <th>p4</th>\n",
       "      <th>g1</th>\n",
       "      <th>g2</th>\n",
       "      <th>g3</th>\n",
       "      <th>g4</th>\n",
       "      <th>stab</th>\n",
       "      <th>stabf</th>\n",
       "    </tr>\n",
       "  </thead>\n",
       "  <tbody>\n",
       "    <tr>\n",
       "      <th>0</th>\n",
       "      <td>2.959060</td>\n",
       "      <td>3.079885</td>\n",
       "      <td>8.381025</td>\n",
       "      <td>9.780754</td>\n",
       "      <td>3.763085</td>\n",
       "      <td>-0.782604</td>\n",
       "      <td>-1.257395</td>\n",
       "      <td>-1.723086</td>\n",
       "      <td>0.650456</td>\n",
       "      <td>0.859578</td>\n",
       "      <td>0.887445</td>\n",
       "      <td>0.958034</td>\n",
       "      <td>0.055347</td>\n",
       "      <td>unstable</td>\n",
       "    </tr>\n",
       "    <tr>\n",
       "      <th>1</th>\n",
       "      <td>9.304097</td>\n",
       "      <td>4.902524</td>\n",
       "      <td>3.047541</td>\n",
       "      <td>1.369357</td>\n",
       "      <td>5.067812</td>\n",
       "      <td>-1.940058</td>\n",
       "      <td>-1.872742</td>\n",
       "      <td>-1.255012</td>\n",
       "      <td>0.413441</td>\n",
       "      <td>0.862414</td>\n",
       "      <td>0.562139</td>\n",
       "      <td>0.781760</td>\n",
       "      <td>-0.005957</td>\n",
       "      <td>stable</td>\n",
       "    </tr>\n",
       "    <tr>\n",
       "      <th>2</th>\n",
       "      <td>8.971707</td>\n",
       "      <td>8.848428</td>\n",
       "      <td>3.046479</td>\n",
       "      <td>1.214518</td>\n",
       "      <td>3.405158</td>\n",
       "      <td>-1.207456</td>\n",
       "      <td>-1.277210</td>\n",
       "      <td>-0.920492</td>\n",
       "      <td>0.163041</td>\n",
       "      <td>0.766689</td>\n",
       "      <td>0.839444</td>\n",
       "      <td>0.109853</td>\n",
       "      <td>0.003471</td>\n",
       "      <td>unstable</td>\n",
       "    </tr>\n",
       "    <tr>\n",
       "      <th>3</th>\n",
       "      <td>0.716415</td>\n",
       "      <td>7.669600</td>\n",
       "      <td>4.486641</td>\n",
       "      <td>2.340563</td>\n",
       "      <td>3.963791</td>\n",
       "      <td>-1.027473</td>\n",
       "      <td>-1.938944</td>\n",
       "      <td>-0.997374</td>\n",
       "      <td>0.446209</td>\n",
       "      <td>0.976744</td>\n",
       "      <td>0.929381</td>\n",
       "      <td>0.362718</td>\n",
       "      <td>0.028871</td>\n",
       "      <td>unstable</td>\n",
       "    </tr>\n",
       "    <tr>\n",
       "      <th>4</th>\n",
       "      <td>3.134112</td>\n",
       "      <td>7.608772</td>\n",
       "      <td>4.943759</td>\n",
       "      <td>9.857573</td>\n",
       "      <td>3.525811</td>\n",
       "      <td>-1.125531</td>\n",
       "      <td>-1.845975</td>\n",
       "      <td>-0.554305</td>\n",
       "      <td>0.797110</td>\n",
       "      <td>0.455450</td>\n",
       "      <td>0.656947</td>\n",
       "      <td>0.820923</td>\n",
       "      <td>0.049860</td>\n",
       "      <td>unstable</td>\n",
       "    </tr>\n",
       "    <tr>\n",
       "      <th>...</th>\n",
       "      <td>...</td>\n",
       "      <td>...</td>\n",
       "      <td>...</td>\n",
       "      <td>...</td>\n",
       "      <td>...</td>\n",
       "      <td>...</td>\n",
       "      <td>...</td>\n",
       "      <td>...</td>\n",
       "      <td>...</td>\n",
       "      <td>...</td>\n",
       "      <td>...</td>\n",
       "      <td>...</td>\n",
       "      <td>...</td>\n",
       "      <td>...</td>\n",
       "    </tr>\n",
       "    <tr>\n",
       "      <th>9995</th>\n",
       "      <td>2.930406</td>\n",
       "      <td>9.487627</td>\n",
       "      <td>2.376523</td>\n",
       "      <td>6.187797</td>\n",
       "      <td>3.343416</td>\n",
       "      <td>-0.658054</td>\n",
       "      <td>-1.449106</td>\n",
       "      <td>-1.236256</td>\n",
       "      <td>0.601709</td>\n",
       "      <td>0.779642</td>\n",
       "      <td>0.813512</td>\n",
       "      <td>0.608385</td>\n",
       "      <td>0.023892</td>\n",
       "      <td>unstable</td>\n",
       "    </tr>\n",
       "    <tr>\n",
       "      <th>9996</th>\n",
       "      <td>3.392299</td>\n",
       "      <td>1.274827</td>\n",
       "      <td>2.954947</td>\n",
       "      <td>6.894759</td>\n",
       "      <td>4.349512</td>\n",
       "      <td>-1.663661</td>\n",
       "      <td>-0.952437</td>\n",
       "      <td>-1.733414</td>\n",
       "      <td>0.502079</td>\n",
       "      <td>0.567242</td>\n",
       "      <td>0.285880</td>\n",
       "      <td>0.366120</td>\n",
       "      <td>-0.025803</td>\n",
       "      <td>stable</td>\n",
       "    </tr>\n",
       "    <tr>\n",
       "      <th>9997</th>\n",
       "      <td>2.364034</td>\n",
       "      <td>2.842030</td>\n",
       "      <td>8.776391</td>\n",
       "      <td>1.008906</td>\n",
       "      <td>4.299976</td>\n",
       "      <td>-1.380719</td>\n",
       "      <td>-0.943884</td>\n",
       "      <td>-1.975373</td>\n",
       "      <td>0.487838</td>\n",
       "      <td>0.986505</td>\n",
       "      <td>0.149286</td>\n",
       "      <td>0.145984</td>\n",
       "      <td>-0.031810</td>\n",
       "      <td>stable</td>\n",
       "    </tr>\n",
       "    <tr>\n",
       "      <th>9998</th>\n",
       "      <td>9.631511</td>\n",
       "      <td>3.994398</td>\n",
       "      <td>2.757071</td>\n",
       "      <td>7.821347</td>\n",
       "      <td>2.514755</td>\n",
       "      <td>-0.966330</td>\n",
       "      <td>-0.649915</td>\n",
       "      <td>-0.898510</td>\n",
       "      <td>0.365246</td>\n",
       "      <td>0.587558</td>\n",
       "      <td>0.889118</td>\n",
       "      <td>0.818391</td>\n",
       "      <td>0.037789</td>\n",
       "      <td>unstable</td>\n",
       "    </tr>\n",
       "    <tr>\n",
       "      <th>9999</th>\n",
       "      <td>6.530527</td>\n",
       "      <td>6.781790</td>\n",
       "      <td>4.349695</td>\n",
       "      <td>8.673138</td>\n",
       "      <td>3.492807</td>\n",
       "      <td>-1.390285</td>\n",
       "      <td>-1.532193</td>\n",
       "      <td>-0.570329</td>\n",
       "      <td>0.073056</td>\n",
       "      <td>0.505441</td>\n",
       "      <td>0.378761</td>\n",
       "      <td>0.942631</td>\n",
       "      <td>0.045263</td>\n",
       "      <td>unstable</td>\n",
       "    </tr>\n",
       "  </tbody>\n",
       "</table>\n",
       "<p>10000 rows × 14 columns</p>\n",
       "</div>"
      ],
      "text/plain": [
       "          tau1      tau2      tau3      tau4        p1        p2        p3  \\\n",
       "0     2.959060  3.079885  8.381025  9.780754  3.763085 -0.782604 -1.257395   \n",
       "1     9.304097  4.902524  3.047541  1.369357  5.067812 -1.940058 -1.872742   \n",
       "2     8.971707  8.848428  3.046479  1.214518  3.405158 -1.207456 -1.277210   \n",
       "3     0.716415  7.669600  4.486641  2.340563  3.963791 -1.027473 -1.938944   \n",
       "4     3.134112  7.608772  4.943759  9.857573  3.525811 -1.125531 -1.845975   \n",
       "...        ...       ...       ...       ...       ...       ...       ...   \n",
       "9995  2.930406  9.487627  2.376523  6.187797  3.343416 -0.658054 -1.449106   \n",
       "9996  3.392299  1.274827  2.954947  6.894759  4.349512 -1.663661 -0.952437   \n",
       "9997  2.364034  2.842030  8.776391  1.008906  4.299976 -1.380719 -0.943884   \n",
       "9998  9.631511  3.994398  2.757071  7.821347  2.514755 -0.966330 -0.649915   \n",
       "9999  6.530527  6.781790  4.349695  8.673138  3.492807 -1.390285 -1.532193   \n",
       "\n",
       "            p4        g1        g2        g3        g4      stab     stabf  \n",
       "0    -1.723086  0.650456  0.859578  0.887445  0.958034  0.055347  unstable  \n",
       "1    -1.255012  0.413441  0.862414  0.562139  0.781760 -0.005957    stable  \n",
       "2    -0.920492  0.163041  0.766689  0.839444  0.109853  0.003471  unstable  \n",
       "3    -0.997374  0.446209  0.976744  0.929381  0.362718  0.028871  unstable  \n",
       "4    -0.554305  0.797110  0.455450  0.656947  0.820923  0.049860  unstable  \n",
       "...        ...       ...       ...       ...       ...       ...       ...  \n",
       "9995 -1.236256  0.601709  0.779642  0.813512  0.608385  0.023892  unstable  \n",
       "9996 -1.733414  0.502079  0.567242  0.285880  0.366120 -0.025803    stable  \n",
       "9997 -1.975373  0.487838  0.986505  0.149286  0.145984 -0.031810    stable  \n",
       "9998 -0.898510  0.365246  0.587558  0.889118  0.818391  0.037789  unstable  \n",
       "9999 -0.570329  0.073056  0.505441  0.378761  0.942631  0.045263  unstable  \n",
       "\n",
       "[10000 rows x 14 columns]"
      ]
     },
     "execution_count": 3,
     "metadata": {},
     "output_type": "execute_result"
    }
   ],
   "source": [
    "df"
   ]
  },
  {
   "cell_type": "code",
   "execution_count": 4,
   "metadata": {},
   "outputs": [
    {
     "data": {
      "text/html": [
       "<div>\n",
       "<style scoped>\n",
       "    .dataframe tbody tr th:only-of-type {\n",
       "        vertical-align: middle;\n",
       "    }\n",
       "\n",
       "    .dataframe tbody tr th {\n",
       "        vertical-align: top;\n",
       "    }\n",
       "\n",
       "    .dataframe thead th {\n",
       "        text-align: right;\n",
       "    }\n",
       "</style>\n",
       "<table border=\"1\" class=\"dataframe\">\n",
       "  <thead>\n",
       "    <tr style=\"text-align: right;\">\n",
       "      <th></th>\n",
       "      <th>count</th>\n",
       "      <th>mean</th>\n",
       "      <th>std</th>\n",
       "      <th>min</th>\n",
       "      <th>25%</th>\n",
       "      <th>50%</th>\n",
       "      <th>75%</th>\n",
       "      <th>max</th>\n",
       "    </tr>\n",
       "  </thead>\n",
       "  <tbody>\n",
       "    <tr>\n",
       "      <th>tau1</th>\n",
       "      <td>10000.0</td>\n",
       "      <td>5.250000</td>\n",
       "      <td>2.742548</td>\n",
       "      <td>0.500793</td>\n",
       "      <td>2.874892</td>\n",
       "      <td>5.250004</td>\n",
       "      <td>7.624690</td>\n",
       "      <td>9.999469</td>\n",
       "    </tr>\n",
       "    <tr>\n",
       "      <th>tau2</th>\n",
       "      <td>10000.0</td>\n",
       "      <td>5.250001</td>\n",
       "      <td>2.742549</td>\n",
       "      <td>0.500141</td>\n",
       "      <td>2.875140</td>\n",
       "      <td>5.249981</td>\n",
       "      <td>7.624893</td>\n",
       "      <td>9.999837</td>\n",
       "    </tr>\n",
       "    <tr>\n",
       "      <th>tau3</th>\n",
       "      <td>10000.0</td>\n",
       "      <td>5.250004</td>\n",
       "      <td>2.742549</td>\n",
       "      <td>0.500788</td>\n",
       "      <td>2.875522</td>\n",
       "      <td>5.249979</td>\n",
       "      <td>7.624948</td>\n",
       "      <td>9.999450</td>\n",
       "    </tr>\n",
       "    <tr>\n",
       "      <th>tau4</th>\n",
       "      <td>10000.0</td>\n",
       "      <td>5.249997</td>\n",
       "      <td>2.742556</td>\n",
       "      <td>0.500473</td>\n",
       "      <td>2.874950</td>\n",
       "      <td>5.249734</td>\n",
       "      <td>7.624838</td>\n",
       "      <td>9.999443</td>\n",
       "    </tr>\n",
       "    <tr>\n",
       "      <th>p1</th>\n",
       "      <td>10000.0</td>\n",
       "      <td>3.750000</td>\n",
       "      <td>0.752160</td>\n",
       "      <td>1.582590</td>\n",
       "      <td>3.218300</td>\n",
       "      <td>3.751025</td>\n",
       "      <td>4.282420</td>\n",
       "      <td>5.864418</td>\n",
       "    </tr>\n",
       "    <tr>\n",
       "      <th>p2</th>\n",
       "      <td>10000.0</td>\n",
       "      <td>-1.250000</td>\n",
       "      <td>0.433035</td>\n",
       "      <td>-1.999891</td>\n",
       "      <td>-1.624901</td>\n",
       "      <td>-1.249966</td>\n",
       "      <td>-0.874977</td>\n",
       "      <td>-0.500108</td>\n",
       "    </tr>\n",
       "    <tr>\n",
       "      <th>p3</th>\n",
       "      <td>10000.0</td>\n",
       "      <td>-1.250000</td>\n",
       "      <td>0.433035</td>\n",
       "      <td>-1.999945</td>\n",
       "      <td>-1.625025</td>\n",
       "      <td>-1.249974</td>\n",
       "      <td>-0.875043</td>\n",
       "      <td>-0.500072</td>\n",
       "    </tr>\n",
       "    <tr>\n",
       "      <th>p4</th>\n",
       "      <td>10000.0</td>\n",
       "      <td>-1.250000</td>\n",
       "      <td>0.433035</td>\n",
       "      <td>-1.999926</td>\n",
       "      <td>-1.624960</td>\n",
       "      <td>-1.250007</td>\n",
       "      <td>-0.875065</td>\n",
       "      <td>-0.500025</td>\n",
       "    </tr>\n",
       "    <tr>\n",
       "      <th>g1</th>\n",
       "      <td>10000.0</td>\n",
       "      <td>0.525000</td>\n",
       "      <td>0.274256</td>\n",
       "      <td>0.050009</td>\n",
       "      <td>0.287521</td>\n",
       "      <td>0.525009</td>\n",
       "      <td>0.762435</td>\n",
       "      <td>0.999937</td>\n",
       "    </tr>\n",
       "    <tr>\n",
       "      <th>g2</th>\n",
       "      <td>10000.0</td>\n",
       "      <td>0.525000</td>\n",
       "      <td>0.274255</td>\n",
       "      <td>0.050053</td>\n",
       "      <td>0.287552</td>\n",
       "      <td>0.525003</td>\n",
       "      <td>0.762490</td>\n",
       "      <td>0.999944</td>\n",
       "    </tr>\n",
       "    <tr>\n",
       "      <th>g3</th>\n",
       "      <td>10000.0</td>\n",
       "      <td>0.525000</td>\n",
       "      <td>0.274255</td>\n",
       "      <td>0.050054</td>\n",
       "      <td>0.287514</td>\n",
       "      <td>0.525015</td>\n",
       "      <td>0.762440</td>\n",
       "      <td>0.999982</td>\n",
       "    </tr>\n",
       "    <tr>\n",
       "      <th>g4</th>\n",
       "      <td>10000.0</td>\n",
       "      <td>0.525000</td>\n",
       "      <td>0.274255</td>\n",
       "      <td>0.050028</td>\n",
       "      <td>0.287494</td>\n",
       "      <td>0.525002</td>\n",
       "      <td>0.762433</td>\n",
       "      <td>0.999930</td>\n",
       "    </tr>\n",
       "    <tr>\n",
       "      <th>stab</th>\n",
       "      <td>10000.0</td>\n",
       "      <td>0.015731</td>\n",
       "      <td>0.036919</td>\n",
       "      <td>-0.080760</td>\n",
       "      <td>-0.015557</td>\n",
       "      <td>0.017142</td>\n",
       "      <td>0.044878</td>\n",
       "      <td>0.109403</td>\n",
       "    </tr>\n",
       "  </tbody>\n",
       "</table>\n",
       "</div>"
      ],
      "text/plain": [
       "        count      mean       std       min       25%       50%       75%  \\\n",
       "tau1  10000.0  5.250000  2.742548  0.500793  2.874892  5.250004  7.624690   \n",
       "tau2  10000.0  5.250001  2.742549  0.500141  2.875140  5.249981  7.624893   \n",
       "tau3  10000.0  5.250004  2.742549  0.500788  2.875522  5.249979  7.624948   \n",
       "tau4  10000.0  5.249997  2.742556  0.500473  2.874950  5.249734  7.624838   \n",
       "p1    10000.0  3.750000  0.752160  1.582590  3.218300  3.751025  4.282420   \n",
       "p2    10000.0 -1.250000  0.433035 -1.999891 -1.624901 -1.249966 -0.874977   \n",
       "p3    10000.0 -1.250000  0.433035 -1.999945 -1.625025 -1.249974 -0.875043   \n",
       "p4    10000.0 -1.250000  0.433035 -1.999926 -1.624960 -1.250007 -0.875065   \n",
       "g1    10000.0  0.525000  0.274256  0.050009  0.287521  0.525009  0.762435   \n",
       "g2    10000.0  0.525000  0.274255  0.050053  0.287552  0.525003  0.762490   \n",
       "g3    10000.0  0.525000  0.274255  0.050054  0.287514  0.525015  0.762440   \n",
       "g4    10000.0  0.525000  0.274255  0.050028  0.287494  0.525002  0.762433   \n",
       "stab  10000.0  0.015731  0.036919 -0.080760 -0.015557  0.017142  0.044878   \n",
       "\n",
       "           max  \n",
       "tau1  9.999469  \n",
       "tau2  9.999837  \n",
       "tau3  9.999450  \n",
       "tau4  9.999443  \n",
       "p1    5.864418  \n",
       "p2   -0.500108  \n",
       "p3   -0.500072  \n",
       "p4   -0.500025  \n",
       "g1    0.999937  \n",
       "g2    0.999944  \n",
       "g3    0.999982  \n",
       "g4    0.999930  \n",
       "stab  0.109403  "
      ]
     },
     "execution_count": 4,
     "metadata": {},
     "output_type": "execute_result"
    }
   ],
   "source": [
    "df.describe().T"
   ]
  },
  {
   "cell_type": "code",
   "execution_count": 5,
   "metadata": {},
   "outputs": [
    {
     "data": {
      "text/plain": [
       "unstable    6380\n",
       "stable      3620\n",
       "Name: stabf, dtype: int64"
      ]
     },
     "execution_count": 5,
     "metadata": {},
     "output_type": "execute_result"
    }
   ],
   "source": [
    "df.stabf.value_counts()"
   ]
  },
  {
   "cell_type": "code",
   "execution_count": 6,
   "metadata": {},
   "outputs": [
    {
     "data": {
      "text/plain": [
       "tau1     0\n",
       "tau2     0\n",
       "tau3     0\n",
       "tau4     0\n",
       "p1       0\n",
       "p2       0\n",
       "p3       0\n",
       "p4       0\n",
       "g1       0\n",
       "g2       0\n",
       "g3       0\n",
       "g4       0\n",
       "stab     0\n",
       "stabf    0\n",
       "dtype: int64"
      ]
     },
     "execution_count": 6,
     "metadata": {},
     "output_type": "execute_result"
    }
   ],
   "source": [
    "df.isna().sum()"
   ]
  },
  {
   "cell_type": "code",
   "execution_count": 7,
   "metadata": {},
   "outputs": [],
   "source": [
    "data_df = df.drop(columns=['stab'])\n",
    "X = data_df.drop(columns='stabf')\n",
    "y = data_df['stabf']"
   ]
  },
  {
   "cell_type": "code",
   "execution_count": 8,
   "metadata": {},
   "outputs": [
    {
     "data": {
      "text/plain": [
       "unstable    5092\n",
       "stable      2908\n",
       "Name: stabf, dtype: int64"
      ]
     },
     "execution_count": 8,
     "metadata": {},
     "output_type": "execute_result"
    }
   ],
   "source": [
    "from sklearn.model_selection import train_test_split\n",
    "x_train, x_test, y_train, y_test = train_test_split(X, y, test_size=0.2, random_state=1)\n",
    "y_train.value_counts()"
   ]
  },
  {
   "cell_type": "code",
   "execution_count": 9,
   "metadata": {},
   "outputs": [],
   "source": [
    "def scaler(df):\n",
    "    \"\"\"\n",
    "    Scales the dataframe\n",
    "    \"\"\"\n",
    "    scaler = MinMaxScaler()\n",
    "    normalised_df = scaler.fit_transform(df)\n",
    "    return pd.DataFrame(normalised_df, columns=df.columns)"
   ]
  },
  {
   "cell_type": "code",
   "execution_count": 10,
   "metadata": {},
   "outputs": [],
   "source": [
    "# Scale the data\n",
    "x_train = scaler(x_train)\n",
    "x_test = scaler(x_test)"
   ]
  },
  {
   "cell_type": "code",
   "execution_count": 11,
   "metadata": {},
   "outputs": [],
   "source": [
    "def metrics(model, predicted_value, real_value):\n",
    "    \"\"\"\n",
    "    Calculates metrics\n",
    "    \"\"\"\n",
    "    cnf_mat = confusion_matrix(y_true=real_value, y_pred=predicted_value, labels=['stable', 'unstable'])\n",
    "    print(\"Confusion Matrix\")\n",
    "    print(cnf_mat)\n",
    "#     plot_confusion_matrix(model, predicted_value, real_value)\n",
    "    \n",
    "    accuracy = accuracy_score(y_true=real_value, y_pred=predicted_value)\n",
    "    print('Accuracy: {}'.format(round(accuracy*100, 2)))\n",
    "    \n",
    "    f1 = f1_score(y_true=y_test, y_pred=predicted_value, pos_label='stable')\n",
    "    print('F1: {}'.format(round(f1*100, 2)))\n",
    "    \n",
    "    precision = precision_score(y_true=y_test, y_pred=predicted_value, pos_label='stable')\n",
    "    print('Precision: {}'.format(round(precision*100, 2)))\n",
    "    \n",
    "    recall = recall_score(y_true=y_test, y_pred=new_predictions, pos_label='stable')\n",
    "    print('Recall: {}'.format(round(recall*100, 2)))"
   ]
  },
  {
   "cell_type": "code",
   "execution_count": 12,
   "metadata": {},
   "outputs": [
    {
     "data": {
      "text/plain": [
       "RandomForestClassifier(random_state=1)"
      ]
     },
     "execution_count": 12,
     "metadata": {},
     "output_type": "execute_result"
    }
   ],
   "source": [
    "# Random forest Regression\n",
    "randomforest_model = RandomForestClassifier(random_state=1)\n",
    "randomforest_model.fit(x_train, y_train)"
   ]
  },
  {
   "cell_type": "code",
   "execution_count": 13,
   "metadata": {},
   "outputs": [],
   "source": [
    "new_predictions = randomforest_model.predict(x_test)"
   ]
  },
  {
   "cell_type": "code",
   "execution_count": 14,
   "metadata": {},
   "outputs": [
    {
     "name": "stdout",
     "output_type": "stream",
     "text": [
      "Confusion Matrix\n",
      "[[ 624   88]\n",
      " [  55 1233]]\n",
      "Accuracy: 92.85\n",
      "F1: 89.72\n",
      "Precision: 91.9\n",
      "Recall: 87.64\n"
     ]
    }
   ],
   "source": [
    "metrics(randomforest_model, new_predictions, y_test)"
   ]
  },
  {
   "cell_type": "code",
   "execution_count": 15,
   "metadata": {},
   "outputs": [],
   "source": [
    "etc_model = ExtraTreesClassifier(random_state=1)\n",
    "etc_model.fit(x_train, y_train)\n",
    "\n",
    "new_predictions = etc_model.predict(x_test)"
   ]
  },
  {
   "cell_type": "code",
   "execution_count": 16,
   "metadata": {},
   "outputs": [
    {
     "name": "stdout",
     "output_type": "stream",
     "text": [
      "Confusion Matrix\n",
      "[[ 610  102]\n",
      " [  39 1249]]\n",
      "Accuracy: 92.95\n",
      "F1: 89.64\n",
      "Precision: 93.99\n",
      "Recall: 85.67\n"
     ]
    }
   ],
   "source": [
    "metrics(etc_model, new_predictions, y_test)"
   ]
  },
  {
   "cell_type": "code",
   "execution_count": 17,
   "metadata": {},
   "outputs": [],
   "source": [
    "xgb_model = XGBClassifier(random_state=1)\n",
    "xgb_model.fit(x_train, y_train)\n",
    "\n",
    "new_predictions = xgb_model.predict(x_test)"
   ]
  },
  {
   "cell_type": "code",
   "execution_count": 18,
   "metadata": {},
   "outputs": [
    {
     "name": "stdout",
     "output_type": "stream",
     "text": [
      "Confusion Matrix\n",
      "[[ 648   64]\n",
      " [  45 1243]]\n",
      "Accuracy: 94.55\n",
      "F1: 92.24\n",
      "Precision: 93.51\n",
      "Recall: 91.01\n"
     ]
    }
   ],
   "source": [
    "metrics(xgb_model, new_predictions, y_test)"
   ]
  },
  {
   "cell_type": "code",
   "execution_count": 19,
   "metadata": {},
   "outputs": [],
   "source": [
    "lgb_model = LGBMClassifier(random_state=1)\n",
    "lgb_model.fit(x_train, y_train)\n",
    "\n",
    "new_predictions = lgb_model.predict(x_test)"
   ]
  },
  {
   "cell_type": "code",
   "execution_count": 20,
   "metadata": {},
   "outputs": [
    {
     "name": "stdout",
     "output_type": "stream",
     "text": [
      "Confusion Matrix\n",
      "[[ 642   70]\n",
      " [  50 1238]]\n",
      "Accuracy: 94.0\n",
      "F1: 91.45\n",
      "Precision: 92.77\n",
      "Recall: 90.17\n"
     ]
    }
   ],
   "source": [
    "metrics(lgb_model, new_predictions, y_test)"
   ]
  },
  {
   "cell_type": "code",
   "execution_count": 21,
   "metadata": {},
   "outputs": [],
   "source": [
    "n_estimators = [50, 100, 300, 500, 1000]\n",
    "min_samples_split = [2, 3, 5, 7, 9]\n",
    "min_samples_leaf = [1, 2, 4, 6, 8]\n",
    "max_features = ['auto', 'sqrt', 'log2', None] \n",
    "hyperparameter_grid = {\n",
    "    'n_estimators': n_estimators,\n",
    "    'min_samples_leaf': min_samples_leaf,\n",
    "    'min_samples_split': min_samples_split,\n",
    "    'max_features': max_features\n",
    "}"
   ]
  },
  {
   "cell_type": "code",
   "execution_count": 22,
   "metadata": {},
   "outputs": [],
   "source": [
    "etc_model = ExtraTreesClassifier(random_state=1)\n",
    "random_cv = RandomizedSearchCV(estimator=etc_model,\n",
    "            param_distributions=hyperparameter_grid,\n",
    "            random_state=1)\n",
    "random_cv.fit(x_train, y_train)\n",
    "\n",
    "new_predictions = random_cv.predict(x_test)"
   ]
  },
  {
   "cell_type": "code",
   "execution_count": 23,
   "metadata": {},
   "outputs": [
    {
     "name": "stdout",
     "output_type": "stream",
     "text": [
      "Confusion Matrix\n",
      "[[ 621   91]\n",
      " [  53 1235]]\n",
      "Accuracy: 92.8\n",
      "F1: 89.61\n",
      "Precision: 92.14\n",
      "Recall: 87.22\n"
     ]
    }
   ],
   "source": [
    "metrics(random_cv, new_predictions, y_test)"
   ]
  },
  {
   "cell_type": "code",
   "execution_count": 24,
   "metadata": {},
   "outputs": [
    {
     "data": {
      "text/plain": [
       "{'n_estimators': 1000,\n",
       " 'min_samples_split': 2,\n",
       " 'min_samples_leaf': 8,\n",
       " 'max_features': None}"
      ]
     },
     "execution_count": 24,
     "metadata": {},
     "output_type": "execute_result"
    }
   ],
   "source": [
    "random_cv.best_params_"
   ]
  },
  {
   "cell_type": "code",
   "execution_count": 25,
   "metadata": {},
   "outputs": [
    {
     "name": "stdout",
     "output_type": "stream",
     "text": [
      "Feature: 0, Score: 0.13724\n",
      "Feature: 1, Score: 0.14051\n",
      "Feature: 2, Score: 0.13468\n",
      "Feature: 3, Score: 0.13542\n",
      "Feature: 4, Score: 0.00368\n",
      "Feature: 5, Score: 0.00534\n",
      "Feature: 6, Score: 0.00543\n",
      "Feature: 7, Score: 0.00496\n",
      "Feature: 8, Score: 0.10256\n",
      "Feature: 9, Score: 0.10758\n",
      "Feature: 10, Score: 0.11306\n",
      "Feature: 11, Score: 0.10954\n"
     ]
    },
    {
     "data": {
      "image/png": "[encoded data removed]",
      "text/plain": [
       "<Figure size 432x288 with 1 Axes>"
      ]
     },
     "metadata": {
      "needs_background": "light"
     },
     "output_type": "display_data"
    }
   ],
   "source": [
    "importance = random_cv.best_estimator_.feature_importances_\n",
    "# summarize feature importance\n",
    "for i,v in enumerate(importance):\n",
    "\tprint('Feature: %0d, Score: %.5f' % (i,v))\n",
    "# plot feature importance\n",
    "plt.bar([x for x in range(len(importance))], importance)\n",
    "plt.show()"
   ]
  },
  {
   "cell_type": "code",
   "execution_count": null,
   "metadata": {},
   "outputs": [],
   "source": []
  }
 ],
 "metadata": {
  "kernelspec": {
   "display_name": "Python 3",
   "language": "python",
   "name": "python3"
  },
  "language_info": {
   "codemirror_mode": {
    "name": "ipython",
    "version": 3
   },
   "file_extension": ".py",
   "mimetype": "text/x-python",
   "name": "python",
   "nbconvert_exporter": "python",
   "pygments_lexer": "ipython3",
   "version": "3.7.6"
  }
 },
 "nbformat": 4,
 "nbformat_minor": 4
}
